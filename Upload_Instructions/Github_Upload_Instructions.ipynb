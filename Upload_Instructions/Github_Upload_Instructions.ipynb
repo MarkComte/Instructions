{
 "cells": [
  {
   "cell_type": "markdown",
   "metadata": {},
   "source": [
    "## Instructions\n",
    "\n",
    "Before you start uploading the notebook I would read through all the steps below to become familiar with them.\n",
    "\n",
    "I have included pictures showing a mock upload of a test notebook to my own repository from step 2 and on. \n",
    "\n",
    "If anyone is having a lot of trouble I can do a mock demonstration next time we meet."
   ]
  },
  {
   "cell_type": "markdown",
   "metadata": {},
   "source": [
    "### **Step 1**\n",
    "\n",
    "Login to Github and go to \"https://github.com/callysto/curriculum-notebooks\". Once on the page go to the Branch button (this is where you would look at the other branches). Enter the name of the branch you want to create in the drop down box and click to create it. This will create the branch in the repository and show up when you search its name.\n",
    "\n",
    "<img src=\"1.png\" alt=\"1\" align=middle>\n",
    "\n",
    "<img src=\"2.png\" alt=\"2\" align=middle>"
   ]
  },
  {
   "cell_type": "markdown",
   "metadata": {},
   "source": [
    "### **Step 2**\n",
    "\n",
    "Now go into the Callysto Hub and create a new folder for the branch to exist in. Leave this folder empty.\n",
    "\n",
    "<img src=\"3.png\" alt=\"3\" align=middle>"
   ]
  },
  {
   "cell_type": "markdown",
   "metadata": {},
   "source": [
    "### **Step 3**\n",
    "\n",
    "Open up a terminal in the Hub\n",
    "\n",
    "### **Step 4**\n",
    "\n",
    "In the terminal navigate to the new folder using the 'cd' command\n",
    "\n",
    "### **Step 5**\n",
    "\n",
    "Type the following into the terminal once you are in the folder. Each line is entered separately in the terminal.\n",
    "\n",
    "> git init <br />\n",
    "> git remote add origin git@github.com:callysto/curriculum-notebooks <br />\n",
    "> git fetch origin \"The name of the branch you created above\" <br />\n",
    "> git checkout \"The name of the branch you created above\" <br />\n",
    "\n",
    "The \" are not included when you type the branch name in the terminal <br />\n",
    "Don't close the terminal window.\n",
    "\n",
    "<img src=\"4.png\" alt=\"4\" align=middle>"
   ]
  },
  {
   "cell_type": "markdown",
   "metadata": {},
   "source": [
    "### **Step 6** \n",
    "\n",
    "Now on the Hub menu if you navigate to the new folder you created it should have all the same files and folders that are in the branch on github.\n",
    "\n",
    "<img src=\"5.png\" alt=\"5\" align=middle>\n",
    "\n",
    "<img src=\"6.png\" alt=\"6\" align=middle>"
   ]
  },
  {
   "cell_type": "markdown",
   "metadata": {},
   "source": [
    "### **Step 7**\n",
    "\n",
    "Still on the Hub in the folder you just created. Navigate to the correct subject folder that your notebook should be under. In the subject folder create a folder for your notebook to go in.\n",
    "\n",
    "<img src=\"7.png\" alt=\"7\" align=middle>\n",
    "\n",
    "<img src=\"8.png\" alt=\"8\" align=middle>"
   ]
  },
  {
   "cell_type": "markdown",
   "metadata": {},
   "source": [
    "### **Step 8**\n",
    "\n",
    "Move all the files and folders associated with your notebook into the folder you just created in step 7\n",
    "\n",
    "<img src=\"10.png\" alt=\"10\" align=middle>\n",
    "\n",
    "<img src=\"9.png\" alt=\"9\" align=middle>"
   ]
  },
  {
   "cell_type": "markdown",
   "metadata": {},
   "source": [
    "### **Step 9**\n",
    "\n",
    "Once the files have been moved go back to the terminal window. Type the follow into the terminal. Each line is enetered separately in the terminal.\n",
    "\n",
    "> git add \"the name of the subject folder your notebook is in\" <br/>\n",
    "> git commit -m \"some comment about what you are commiting\"   <------ You need these quotations for the comment in the commit <br/>\n",
    "> git push origin \"The name of the branch you created above\" <br/>\n",
    "\n",
    "The \" are not included except for the comment part in the commit\n",
    "\n",
    "<img src=\"11.png\" alt=\"11\" align=middle>\n",
    "\n",
    "<img src=\"12.png\" alt=\"12\" align=middle>\n",
    "\n",
    "<img src=\"13.png\" alt=\"13\" align=middle>"
   ]
  }
 ],
 "metadata": {
  "kernelspec": {
   "display_name": "Python 3",
   "language": "python",
   "name": "python3"
  },
  "language_info": {
   "codemirror_mode": {
    "name": "ipython",
    "version": 3
   },
   "file_extension": ".py",
   "mimetype": "text/x-python",
   "name": "python",
   "nbconvert_exporter": "python",
   "pygments_lexer": "ipython3",
   "version": "3.6.5"
  }
 },
 "nbformat": 4,
 "nbformat_minor": 2
}
